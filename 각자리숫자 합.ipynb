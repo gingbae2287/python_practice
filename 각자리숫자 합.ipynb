{
  "nbformat": 4,
  "nbformat_minor": 0,
  "metadata": {
    "colab": {
      "name": "연습.ipynb",
      "provenance": [],
      "collapsed_sections": [],
      "authorship_tag": "ABX9TyMZ40qpebLaYUomN+5NmMI5",
      "include_colab_link": true
    },
    "kernelspec": {
      "display_name": "Python 3",
      "name": "python3"
    },
    "language_info": {
      "name": "python"
    }
  },
  "cells": [
    {
      "cell_type": "markdown",
      "metadata": {
        "id": "view-in-github",
        "colab_type": "text"
      },
      "source": [
        "<a href=\"https://colab.research.google.com/github/gingbae2287/python_practice/blob/main/%EA%B0%81%EC%9E%90%EB%A6%AC%EC%88%AB%EC%9E%90%20%ED%95%A9.ipynb\" target=\"_parent\"><img src=\"https://colab.research.google.com/assets/colab-badge.svg\" alt=\"Open In Colab\"/></a>"
      ]
    },
    {
      "cell_type": "code",
      "metadata": {
        "colab": {
          "base_uri": "https://localhost:8080/"
        },
        "id": "lDJyNYM4rD-k",
        "outputId": "c2312623-b433-4ba9-f566-272e36e8901a"
      },
      "source": [
        "def sumOfDigits():\n",
        "  num=int(input())\n",
        "  l=list(str(num))\n",
        "  sum=0\n",
        "  for i in l:\n",
        "    sum+=int(i)\n",
        "  return sum\n",
        "\n",
        "sumOfDigits()\n",
        "\n"
      ],
      "execution_count": 23,
      "outputs": [
        {
          "output_type": "stream",
          "text": [
            "254\n",
            "11\n"
          ],
          "name": "stdout"
        },
        {
          "output_type": "execute_result",
          "data": {
            "text/plain": [
              "11"
            ]
          },
          "metadata": {
            "tags": []
          },
          "execution_count": 23
        }
      ]
    },
    {
      "cell_type": "code",
      "metadata": {
        "id": "9cZbjPsZQ1Ce"
      },
      "source": [
        ""
      ],
      "execution_count": null,
      "outputs": []
    },
    {
      "cell_type": "markdown",
      "metadata": {
        "id": "Fg5Yrc_IGYdH"
      },
      "source": [
        ""
      ]
    }
  ]
}